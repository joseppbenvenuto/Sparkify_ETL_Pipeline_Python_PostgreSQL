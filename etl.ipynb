{
 "cells": [
  {
   "cell_type": "markdown",
   "id": "3e3859a7",
   "metadata": {},
   "source": [
    "# Sparkify Data Modeling Project\n",
    "\n",
    "---"
   ]
  },
  {
   "cell_type": "code",
   "execution_count": 2,
   "id": "6e9795c7",
   "metadata": {},
   "outputs": [],
   "source": [
    "# Import libraries\n",
    "import os\n",
    "import glob\n",
    "import psycopg2 as ps\n",
    "\n",
    "import pandas as pd\n",
    "pd.set_option('display.max_columns', None)\n",
    "pd.set_option('display.max_rows', None)\n",
    "\n",
    "import warnings\n",
    "warnings.filterwarnings('ignore')\n",
    "\n",
    "from sql_queries import *\n",
    "from create_tables import *"
   ]
  },
  {
   "cell_type": "code",
   "execution_count": 3,
   "id": "48809a0e",
   "metadata": {},
   "outputs": [],
   "source": [
    "# Get files function\n",
    "def get_files(filepath):\n",
    "    all_files = []\n",
    "    for root, dirs, files in os.walk(filepath):\n",
    "        files = glob.glob(os.path.join(root,'*.json'))\n",
    "        for f in files:\n",
    "            all_files.append(os.path.abspath(f))\n",
    "    \n",
    "    return all_files"
   ]
  },
  {
   "cell_type": "markdown",
   "id": "4a49f206",
   "metadata": {},
   "source": [
    "### Pre-process & Insert Song & Artist Data\n",
    "\n",
    "---"
   ]
  },
  {
   "cell_type": "code",
   "execution_count": 4,
   "id": "34348d1a",
   "metadata": {},
   "outputs": [
    {
     "name": "stdout",
     "output_type": "stream",
     "text": [
      "\n",
      "\n",
      "Song Data Files: \n",
      "\n",
      "['C:\\\\Users\\\\JoseppBenvenuto\\\\Desktop\\\\Projects\\\\Udacity_DE\\\\Python_PostgreSQL_ETL_Pipeline\\\\Data\\\\song_data\\\\A\\\\A\\\\A\\\\TRAAAAW128F429D538.json', 'C:\\\\Users\\\\JoseppBenvenuto\\\\Desktop\\\\Projects\\\\Udacity_DE\\\\Python_PostgreSQL_ETL_Pipeline\\\\Data\\\\song_data\\\\A\\\\A\\\\A\\\\TRAAABD128F429CF47.json', 'C:\\\\Users\\\\JoseppBenvenuto\\\\Desktop\\\\Projects\\\\Udacity_DE\\\\Python_PostgreSQL_ETL_Pipeline\\\\Data\\\\song_data\\\\A\\\\A\\\\A\\\\TRAAADZ128F9348C2E.json']\n",
      "\n",
      "\n"
     ]
    }
   ],
   "source": [
    "# Song data files path\n",
    "song_data_path = 'C:\\\\Users\\\\JoseppBenvenuto\\\\Desktop\\\\Projects\\\\Udacity_DE\\\\Python_PostgreSQL_ETL_Pipeline\\\\Data\\\\song_data'\n",
    "# Get all files from directory\n",
    "song_files = get_files(filepath = song_data_path)\n",
    "\n",
    "print('\\n')\n",
    "print('Song Data Files: \\n')\n",
    "print(song_files[0:3])\n",
    "print('\\n')"
   ]
  },
  {
   "cell_type": "code",
   "execution_count": 5,
   "id": "6d17298d",
   "metadata": {},
   "outputs": [
    {
     "name": "stdout",
     "output_type": "stream",
     "text": [
      "\n",
      " Song & Artist Data: \n",
      "\n",
      "<class 'pandas.core.frame.DataFrame'>\n",
      "RangeIndex: 1 entries, 0 to 0\n",
      "Data columns (total 10 columns):\n",
      " #   Column            Non-Null Count  Dtype  \n",
      "---  ------            --------------  -----  \n",
      " 0   num_songs         1 non-null      int64  \n",
      " 1   artist_id         1 non-null      object \n",
      " 2   artist_latitude   0 non-null      float64\n",
      " 3   artist_longitude  0 non-null      float64\n",
      " 4   artist_location   1 non-null      object \n",
      " 5   artist_name       1 non-null      object \n",
      " 6   song_id           1 non-null      object \n",
      " 7   title             1 non-null      object \n",
      " 8   duration          1 non-null      float64\n",
      " 9   year              1 non-null      int64  \n",
      "dtypes: float64(3), int64(2), object(5)\n",
      "memory usage: 208.0+ bytes\n"
     ]
    },
    {
     "data": {
      "text/html": [
       "<div>\n",
       "<style scoped>\n",
       "    .dataframe tbody tr th:only-of-type {\n",
       "        vertical-align: middle;\n",
       "    }\n",
       "\n",
       "    .dataframe tbody tr th {\n",
       "        vertical-align: top;\n",
       "    }\n",
       "\n",
       "    .dataframe thead th {\n",
       "        text-align: right;\n",
       "    }\n",
       "</style>\n",
       "<table border=\"1\" class=\"dataframe\">\n",
       "  <thead>\n",
       "    <tr style=\"text-align: right;\">\n",
       "      <th></th>\n",
       "      <th>num_songs</th>\n",
       "      <th>artist_id</th>\n",
       "      <th>artist_latitude</th>\n",
       "      <th>artist_longitude</th>\n",
       "      <th>artist_location</th>\n",
       "      <th>artist_name</th>\n",
       "      <th>song_id</th>\n",
       "      <th>title</th>\n",
       "      <th>duration</th>\n",
       "      <th>year</th>\n",
       "    </tr>\n",
       "  </thead>\n",
       "  <tbody>\n",
       "    <tr>\n",
       "      <th>0</th>\n",
       "      <td>1</td>\n",
       "      <td>ARD7TVE1187B99BFB1</td>\n",
       "      <td>NaN</td>\n",
       "      <td>NaN</td>\n",
       "      <td>California - LA</td>\n",
       "      <td>Casual</td>\n",
       "      <td>SOMZWCG12A8C13C480</td>\n",
       "      <td>I Didn't Mean To</td>\n",
       "      <td>218.93179</td>\n",
       "      <td>0</td>\n",
       "    </tr>\n",
       "  </tbody>\n",
       "</table>\n",
       "</div>"
      ],
      "text/plain": [
       "   num_songs           artist_id  artist_latitude  artist_longitude  \\\n",
       "0          1  ARD7TVE1187B99BFB1              NaN               NaN   \n",
       "\n",
       "   artist_location artist_name             song_id             title  \\\n",
       "0  California - LA      Casual  SOMZWCG12A8C13C480  I Didn't Mean To   \n",
       "\n",
       "    duration  year  \n",
       "0  218.93179     0  "
      ]
     },
     "metadata": {},
     "output_type": "display_data"
    },
    {
     "name": "stdout",
     "output_type": "stream",
     "text": [
      "\n",
      " Song Data: \n",
      "\n",
      "<class 'pandas.core.frame.DataFrame'>\n",
      "RangeIndex: 1 entries, 0 to 0\n",
      "Data columns (total 5 columns):\n",
      " #   Column     Non-Null Count  Dtype  \n",
      "---  ------     --------------  -----  \n",
      " 0   song_id    1 non-null      object \n",
      " 1   title      1 non-null      object \n",
      " 2   artist_id  1 non-null      object \n",
      " 3   year       1 non-null      int64  \n",
      " 4   duration   1 non-null      float64\n",
      "dtypes: float64(1), int64(1), object(3)\n",
      "memory usage: 168.0+ bytes\n"
     ]
    },
    {
     "data": {
      "text/html": [
       "<div>\n",
       "<style scoped>\n",
       "    .dataframe tbody tr th:only-of-type {\n",
       "        vertical-align: middle;\n",
       "    }\n",
       "\n",
       "    .dataframe tbody tr th {\n",
       "        vertical-align: top;\n",
       "    }\n",
       "\n",
       "    .dataframe thead th {\n",
       "        text-align: right;\n",
       "    }\n",
       "</style>\n",
       "<table border=\"1\" class=\"dataframe\">\n",
       "  <thead>\n",
       "    <tr style=\"text-align: right;\">\n",
       "      <th></th>\n",
       "      <th>song_id</th>\n",
       "      <th>title</th>\n",
       "      <th>artist_id</th>\n",
       "      <th>year</th>\n",
       "      <th>duration</th>\n",
       "    </tr>\n",
       "  </thead>\n",
       "  <tbody>\n",
       "    <tr>\n",
       "      <th>0</th>\n",
       "      <td>SOMZWCG12A8C13C480</td>\n",
       "      <td>I Didn't Mean To</td>\n",
       "      <td>ARD7TVE1187B99BFB1</td>\n",
       "      <td>0</td>\n",
       "      <td>218.93179</td>\n",
       "    </tr>\n",
       "  </tbody>\n",
       "</table>\n",
       "</div>"
      ],
      "text/plain": [
       "              song_id             title           artist_id  year   duration\n",
       "0  SOMZWCG12A8C13C480  I Didn't Mean To  ARD7TVE1187B99BFB1     0  218.93179"
      ]
     },
     "metadata": {},
     "output_type": "display_data"
    },
    {
     "name": "stdout",
     "output_type": "stream",
     "text": [
      "\n",
      " Artist Data: \n",
      "\n",
      "<class 'pandas.core.frame.DataFrame'>\n",
      "RangeIndex: 1 entries, 0 to 0\n",
      "Data columns (total 5 columns):\n",
      " #   Column            Non-Null Count  Dtype  \n",
      "---  ------            --------------  -----  \n",
      " 0   artist_id         1 non-null      object \n",
      " 1   artist_name       1 non-null      object \n",
      " 2   artist_location   1 non-null      object \n",
      " 3   artist_latitude   0 non-null      float64\n",
      " 4   artist_longitude  0 non-null      float64\n",
      "dtypes: float64(2), object(3)\n",
      "memory usage: 168.0+ bytes\n"
     ]
    },
    {
     "data": {
      "text/html": [
       "<div>\n",
       "<style scoped>\n",
       "    .dataframe tbody tr th:only-of-type {\n",
       "        vertical-align: middle;\n",
       "    }\n",
       "\n",
       "    .dataframe tbody tr th {\n",
       "        vertical-align: top;\n",
       "    }\n",
       "\n",
       "    .dataframe thead th {\n",
       "        text-align: right;\n",
       "    }\n",
       "</style>\n",
       "<table border=\"1\" class=\"dataframe\">\n",
       "  <thead>\n",
       "    <tr style=\"text-align: right;\">\n",
       "      <th></th>\n",
       "      <th>artist_id</th>\n",
       "      <th>artist_name</th>\n",
       "      <th>artist_location</th>\n",
       "      <th>artist_latitude</th>\n",
       "      <th>artist_longitude</th>\n",
       "    </tr>\n",
       "  </thead>\n",
       "  <tbody>\n",
       "    <tr>\n",
       "      <th>0</th>\n",
       "      <td>ARD7TVE1187B99BFB1</td>\n",
       "      <td>Casual</td>\n",
       "      <td>California - LA</td>\n",
       "      <td>NaN</td>\n",
       "      <td>NaN</td>\n",
       "    </tr>\n",
       "  </tbody>\n",
       "</table>\n",
       "</div>"
      ],
      "text/plain": [
       "            artist_id artist_name  artist_location  artist_latitude  \\\n",
       "0  ARD7TVE1187B99BFB1      Casual  California - LA              NaN   \n",
       "\n",
       "   artist_longitude  \n",
       "0               NaN  "
      ]
     },
     "metadata": {},
     "output_type": "display_data"
    },
    {
     "name": "stdout",
     "output_type": "stream",
     "text": [
      "\n",
      "\n"
     ]
    }
   ],
   "source": [
    "# Select one song file \n",
    "df = pd.read_json(song_files[0], lines = True)\n",
    "\n",
    "# Song data\n",
    "song_df = df[['song_id', 'title', 'artist_id', 'year', 'duration']]\n",
    "\n",
    "# Artist data\n",
    "artist_df = df[['artist_id', 'artist_name', 'artist_location', 'artist_latitude', 'artist_longitude']]\n",
    "\n",
    "print('\\n Song & Artist Data: \\n')\n",
    "df.info()\n",
    "display(df.head(3))\n",
    "\n",
    "print('\\n Song Data: \\n')\n",
    "song_df.info()\n",
    "display(song_df.head(3))\n",
    "\n",
    "print('\\n Artist Data: \\n')\n",
    "artist_df.info()\n",
    "display(artist_df.head(3))\n",
    "print('\\n')"
   ]
  },
  {
   "cell_type": "code",
   "execution_count": 6,
   "id": "9c50f9d6",
   "metadata": {},
   "outputs": [
    {
     "name": "stdout",
     "output_type": "stream",
     "text": [
      "\n",
      " Song Data: \n",
      "\n",
      "['SOMZWCG12A8C13C480' \"I Didn't Mean To\" 'ARD7TVE1187B99BFB1' 0 218.93179]\n",
      "\n",
      " Artist Data: \n",
      "\n",
      "['ARD7TVE1187B99BFB1' 'Casual' 'California - LA' nan nan]\n",
      "\n",
      "\n"
     ]
    }
   ],
   "source": [
    "# Get array of song data (list of lists)\n",
    "song_df_values = song_df.values\n",
    "artist_df_values = artist_df.values\n",
    "\n",
    "# Get first record of song data from values\n",
    "print('\\n Song Data: \\n')\n",
    "song_data = list(song_df_values)\n",
    "print(song_data[0])\n",
    "\n",
    "print('\\n Artist Data: \\n')\n",
    "artist_data = list(artist_df_values)\n",
    "print(artist_data[0])\n",
    "print('\\n')"
   ]
  },
  {
   "cell_type": "code",
   "execution_count": 7,
   "id": "b6afee3b",
   "metadata": {},
   "outputs": [
    {
     "name": "stdout",
     "output_type": "stream",
     "text": [
      "\n",
      " successfully connected to sparkifydb database \n",
      "\n"
     ]
    }
   ],
   "source": [
    "# Generate connection to database\n",
    "try: \n",
    "    conn = ps.connect('''host=localhost\n",
    "                         dbname=sparkifydb \n",
    "                         user=postgres\n",
    "                         password=rootroot''')\n",
    "    \n",
    "    cur = conn.cursor()\n",
    "    \n",
    "    print('\\n successfully connected to sparkifydb database \\n')\n",
    "    \n",
    "except ps.Error as e:\n",
    "    print('\\n Error:')\n",
    "    print(e)\n",
    "    \n",
    "# Create tables\n",
    "create_tables(cur, conn)"
   ]
  },
  {
   "cell_type": "code",
   "execution_count": 8,
   "id": "fc357b13",
   "metadata": {},
   "outputs": [],
   "source": [
    "# Insert song data\n",
    "for index, row in song_df.iterrows():\n",
    "    cur.execute(song_table_insert, list(row))\n",
    "    conn.commit()"
   ]
  },
  {
   "cell_type": "code",
   "execution_count": 9,
   "id": "af9bbd9c",
   "metadata": {},
   "outputs": [],
   "source": [
    "# Insert artist data\n",
    "for index, row in artist_df.iterrows():\n",
    "    cur.execute(artist_table_insert, list(row))\n",
    "    conn.commit()"
   ]
  },
  {
   "cell_type": "markdown",
   "id": "b8b6e744",
   "metadata": {},
   "source": [
    "### Pre-process & Insert Log, Time, & User Data\n",
    "\n",
    "---"
   ]
  },
  {
   "cell_type": "code",
   "execution_count": 10,
   "id": "22319572",
   "metadata": {},
   "outputs": [
    {
     "name": "stdout",
     "output_type": "stream",
     "text": [
      "\n",
      "\n",
      "Log Data Files: \n",
      "\n",
      "['C:\\\\Users\\\\JoseppBenvenuto\\\\Desktop\\\\Projects\\\\Udacity_DE\\\\Python_PostgreSQL_ETL_Pipeline\\\\Data\\\\log_data\\\\2018\\\\11\\\\2018-11-01-events.json', 'C:\\\\Users\\\\JoseppBenvenuto\\\\Desktop\\\\Projects\\\\Udacity_DE\\\\Python_PostgreSQL_ETL_Pipeline\\\\Data\\\\log_data\\\\2018\\\\11\\\\2018-11-02-events.json', 'C:\\\\Users\\\\JoseppBenvenuto\\\\Desktop\\\\Projects\\\\Udacity_DE\\\\Python_PostgreSQL_ETL_Pipeline\\\\Data\\\\log_data\\\\2018\\\\11\\\\2018-11-03-events.json']\n",
      "\n",
      "\n"
     ]
    }
   ],
   "source": [
    "log_data_path = 'C:\\\\Users\\\\JoseppBenvenuto\\\\Desktop\\\\Projects\\\\Udacity_DE\\\\Python_PostgreSQL_ETL_Pipeline\\\\Data\\\\log_data'\n",
    "# Get all files from directory\n",
    "log_files = get_files(filepath = log_data_path)\n",
    "\n",
    "print('\\n')\n",
    "print('Log Data Files: \\n')\n",
    "print(log_files[0:3])\n",
    "print('\\n')"
   ]
  },
  {
   "cell_type": "code",
   "execution_count": 11,
   "id": "007d0a6a",
   "metadata": {
    "scrolled": false
   },
   "outputs": [
    {
     "name": "stdout",
     "output_type": "stream",
     "text": [
      "\n",
      " Log Data: \n",
      "\n",
      "<class 'pandas.core.frame.DataFrame'>\n",
      "RangeIndex: 11 entries, 0 to 10\n",
      "Data columns (total 19 columns):\n",
      " #   Column         Non-Null Count  Dtype         \n",
      "---  ------         --------------  -----         \n",
      " 0   artist         11 non-null     object        \n",
      " 1   auth           11 non-null     object        \n",
      " 2   firstName      11 non-null     object        \n",
      " 3   gender         11 non-null     object        \n",
      " 4   itemInSession  11 non-null     int64         \n",
      " 5   lastName       11 non-null     object        \n",
      " 6   length         11 non-null     float64       \n",
      " 7   level          11 non-null     object        \n",
      " 8   location       11 non-null     object        \n",
      " 9   method         11 non-null     object        \n",
      " 10  page           11 non-null     object        \n",
      " 11  registration   11 non-null     int64         \n",
      " 12  sessionId      11 non-null     int64         \n",
      " 13  song           11 non-null     object        \n",
      " 14  status         11 non-null     int64         \n",
      " 15  ts             11 non-null     int64         \n",
      " 16  userAgent      11 non-null     object        \n",
      " 17  userId         11 non-null     int64         \n",
      " 18  start_time     11 non-null     datetime64[ns]\n",
      "dtypes: datetime64[ns](1), float64(1), int64(6), object(11)\n",
      "memory usage: 1.8+ KB\n"
     ]
    },
    {
     "data": {
      "text/html": [
       "<div>\n",
       "<style scoped>\n",
       "    .dataframe tbody tr th:only-of-type {\n",
       "        vertical-align: middle;\n",
       "    }\n",
       "\n",
       "    .dataframe tbody tr th {\n",
       "        vertical-align: top;\n",
       "    }\n",
       "\n",
       "    .dataframe thead th {\n",
       "        text-align: right;\n",
       "    }\n",
       "</style>\n",
       "<table border=\"1\" class=\"dataframe\">\n",
       "  <thead>\n",
       "    <tr style=\"text-align: right;\">\n",
       "      <th></th>\n",
       "      <th>artist</th>\n",
       "      <th>auth</th>\n",
       "      <th>firstName</th>\n",
       "      <th>gender</th>\n",
       "      <th>itemInSession</th>\n",
       "      <th>lastName</th>\n",
       "      <th>length</th>\n",
       "      <th>level</th>\n",
       "      <th>location</th>\n",
       "      <th>method</th>\n",
       "      <th>page</th>\n",
       "      <th>registration</th>\n",
       "      <th>sessionId</th>\n",
       "      <th>song</th>\n",
       "      <th>status</th>\n",
       "      <th>ts</th>\n",
       "      <th>userAgent</th>\n",
       "      <th>userId</th>\n",
       "      <th>start_time</th>\n",
       "    </tr>\n",
       "  </thead>\n",
       "  <tbody>\n",
       "    <tr>\n",
       "      <th>0</th>\n",
       "      <td>Des'ree</td>\n",
       "      <td>Logged In</td>\n",
       "      <td>Kaylee</td>\n",
       "      <td>F</td>\n",
       "      <td>1</td>\n",
       "      <td>Summers</td>\n",
       "      <td>246.30812</td>\n",
       "      <td>free</td>\n",
       "      <td>Phoenix-Mesa-Scottsdale, AZ</td>\n",
       "      <td>PUT</td>\n",
       "      <td>NextSong</td>\n",
       "      <td>1540344794796</td>\n",
       "      <td>139</td>\n",
       "      <td>You Gotta Be</td>\n",
       "      <td>200</td>\n",
       "      <td>1541106106796</td>\n",
       "      <td>\"Mozilla/5.0 (Windows NT 6.1; WOW64) AppleWebK...</td>\n",
       "      <td>8</td>\n",
       "      <td>2018-11-01 21:01:46.796</td>\n",
       "    </tr>\n",
       "    <tr>\n",
       "      <th>1</th>\n",
       "      <td>Mr Oizo</td>\n",
       "      <td>Logged In</td>\n",
       "      <td>Kaylee</td>\n",
       "      <td>F</td>\n",
       "      <td>3</td>\n",
       "      <td>Summers</td>\n",
       "      <td>144.03873</td>\n",
       "      <td>free</td>\n",
       "      <td>Phoenix-Mesa-Scottsdale, AZ</td>\n",
       "      <td>PUT</td>\n",
       "      <td>NextSong</td>\n",
       "      <td>1540344794796</td>\n",
       "      <td>139</td>\n",
       "      <td>Flat 55</td>\n",
       "      <td>200</td>\n",
       "      <td>1541106352796</td>\n",
       "      <td>\"Mozilla/5.0 (Windows NT 6.1; WOW64) AppleWebK...</td>\n",
       "      <td>8</td>\n",
       "      <td>2018-11-01 21:05:52.796</td>\n",
       "    </tr>\n",
       "    <tr>\n",
       "      <th>2</th>\n",
       "      <td>Tamba Trio</td>\n",
       "      <td>Logged In</td>\n",
       "      <td>Kaylee</td>\n",
       "      <td>F</td>\n",
       "      <td>4</td>\n",
       "      <td>Summers</td>\n",
       "      <td>177.18812</td>\n",
       "      <td>free</td>\n",
       "      <td>Phoenix-Mesa-Scottsdale, AZ</td>\n",
       "      <td>PUT</td>\n",
       "      <td>NextSong</td>\n",
       "      <td>1540344794796</td>\n",
       "      <td>139</td>\n",
       "      <td>Quem Quiser Encontrar O Amor</td>\n",
       "      <td>200</td>\n",
       "      <td>1541106496796</td>\n",
       "      <td>\"Mozilla/5.0 (Windows NT 6.1; WOW64) AppleWebK...</td>\n",
       "      <td>8</td>\n",
       "      <td>2018-11-01 21:08:16.796</td>\n",
       "    </tr>\n",
       "  </tbody>\n",
       "</table>\n",
       "</div>"
      ],
      "text/plain": [
       "       artist       auth firstName gender  itemInSession lastName     length  \\\n",
       "0     Des'ree  Logged In    Kaylee      F              1  Summers  246.30812   \n",
       "1     Mr Oizo  Logged In    Kaylee      F              3  Summers  144.03873   \n",
       "2  Tamba Trio  Logged In    Kaylee      F              4  Summers  177.18812   \n",
       "\n",
       "  level                     location method      page   registration  \\\n",
       "0  free  Phoenix-Mesa-Scottsdale, AZ    PUT  NextSong  1540344794796   \n",
       "1  free  Phoenix-Mesa-Scottsdale, AZ    PUT  NextSong  1540344794796   \n",
       "2  free  Phoenix-Mesa-Scottsdale, AZ    PUT  NextSong  1540344794796   \n",
       "\n",
       "   sessionId                          song  status             ts  \\\n",
       "0        139                  You Gotta Be     200  1541106106796   \n",
       "1        139                       Flat 55     200  1541106352796   \n",
       "2        139  Quem Quiser Encontrar O Amor     200  1541106496796   \n",
       "\n",
       "                                           userAgent  userId  \\\n",
       "0  \"Mozilla/5.0 (Windows NT 6.1; WOW64) AppleWebK...       8   \n",
       "1  \"Mozilla/5.0 (Windows NT 6.1; WOW64) AppleWebK...       8   \n",
       "2  \"Mozilla/5.0 (Windows NT 6.1; WOW64) AppleWebK...       8   \n",
       "\n",
       "               start_time  \n",
       "0 2018-11-01 21:01:46.796  \n",
       "1 2018-11-01 21:05:52.796  \n",
       "2 2018-11-01 21:08:16.796  "
      ]
     },
     "metadata": {},
     "output_type": "display_data"
    },
    {
     "name": "stdout",
     "output_type": "stream",
     "text": [
      "\n",
      " Time Data: \n",
      "\n",
      "<class 'pandas.core.frame.DataFrame'>\n",
      "RangeIndex: 11 entries, 0 to 10\n",
      "Data columns (total 7 columns):\n",
      " #   Column      Non-Null Count  Dtype         \n",
      "---  ------      --------------  -----         \n",
      " 0   start_time  11 non-null     datetime64[ns]\n",
      " 1   hour        11 non-null     int64         \n",
      " 2   day         11 non-null     int64         \n",
      " 3   week        11 non-null     int64         \n",
      " 4   month       11 non-null     int64         \n",
      " 5   year        11 non-null     int64         \n",
      " 6   weekday     11 non-null     int64         \n",
      "dtypes: datetime64[ns](1), int64(6)\n",
      "memory usage: 744.0 bytes\n"
     ]
    },
    {
     "data": {
      "text/html": [
       "<div>\n",
       "<style scoped>\n",
       "    .dataframe tbody tr th:only-of-type {\n",
       "        vertical-align: middle;\n",
       "    }\n",
       "\n",
       "    .dataframe tbody tr th {\n",
       "        vertical-align: top;\n",
       "    }\n",
       "\n",
       "    .dataframe thead th {\n",
       "        text-align: right;\n",
       "    }\n",
       "</style>\n",
       "<table border=\"1\" class=\"dataframe\">\n",
       "  <thead>\n",
       "    <tr style=\"text-align: right;\">\n",
       "      <th></th>\n",
       "      <th>start_time</th>\n",
       "      <th>hour</th>\n",
       "      <th>day</th>\n",
       "      <th>week</th>\n",
       "      <th>month</th>\n",
       "      <th>year</th>\n",
       "      <th>weekday</th>\n",
       "    </tr>\n",
       "  </thead>\n",
       "  <tbody>\n",
       "    <tr>\n",
       "      <th>0</th>\n",
       "      <td>2018-11-01 21:01:46.796</td>\n",
       "      <td>21</td>\n",
       "      <td>1</td>\n",
       "      <td>44</td>\n",
       "      <td>11</td>\n",
       "      <td>2018</td>\n",
       "      <td>3</td>\n",
       "    </tr>\n",
       "    <tr>\n",
       "      <th>1</th>\n",
       "      <td>2018-11-01 21:05:52.796</td>\n",
       "      <td>21</td>\n",
       "      <td>1</td>\n",
       "      <td>44</td>\n",
       "      <td>11</td>\n",
       "      <td>2018</td>\n",
       "      <td>3</td>\n",
       "    </tr>\n",
       "    <tr>\n",
       "      <th>2</th>\n",
       "      <td>2018-11-01 21:08:16.796</td>\n",
       "      <td>21</td>\n",
       "      <td>1</td>\n",
       "      <td>44</td>\n",
       "      <td>11</td>\n",
       "      <td>2018</td>\n",
       "      <td>3</td>\n",
       "    </tr>\n",
       "  </tbody>\n",
       "</table>\n",
       "</div>"
      ],
      "text/plain": [
       "               start_time  hour  day  week  month  year  weekday\n",
       "0 2018-11-01 21:01:46.796    21    1    44     11  2018        3\n",
       "1 2018-11-01 21:05:52.796    21    1    44     11  2018        3\n",
       "2 2018-11-01 21:08:16.796    21    1    44     11  2018        3"
      ]
     },
     "metadata": {},
     "output_type": "display_data"
    },
    {
     "name": "stdout",
     "output_type": "stream",
     "text": [
      "\n",
      " Users Data: \n",
      "\n",
      "<class 'pandas.core.frame.DataFrame'>\n",
      "RangeIndex: 11 entries, 0 to 10\n",
      "Data columns (total 5 columns):\n",
      " #   Column     Non-Null Count  Dtype \n",
      "---  ------     --------------  ----- \n",
      " 0   userId     11 non-null     int64 \n",
      " 1   firstName  11 non-null     object\n",
      " 2   lastName   11 non-null     object\n",
      " 3   gender     11 non-null     object\n",
      " 4   level      11 non-null     object\n",
      "dtypes: int64(1), object(4)\n",
      "memory usage: 568.0+ bytes\n"
     ]
    },
    {
     "data": {
      "text/html": [
       "<div>\n",
       "<style scoped>\n",
       "    .dataframe tbody tr th:only-of-type {\n",
       "        vertical-align: middle;\n",
       "    }\n",
       "\n",
       "    .dataframe tbody tr th {\n",
       "        vertical-align: top;\n",
       "    }\n",
       "\n",
       "    .dataframe thead th {\n",
       "        text-align: right;\n",
       "    }\n",
       "</style>\n",
       "<table border=\"1\" class=\"dataframe\">\n",
       "  <thead>\n",
       "    <tr style=\"text-align: right;\">\n",
       "      <th></th>\n",
       "      <th>userId</th>\n",
       "      <th>firstName</th>\n",
       "      <th>lastName</th>\n",
       "      <th>gender</th>\n",
       "      <th>level</th>\n",
       "    </tr>\n",
       "  </thead>\n",
       "  <tbody>\n",
       "    <tr>\n",
       "      <th>0</th>\n",
       "      <td>8</td>\n",
       "      <td>Kaylee</td>\n",
       "      <td>Summers</td>\n",
       "      <td>F</td>\n",
       "      <td>free</td>\n",
       "    </tr>\n",
       "    <tr>\n",
       "      <th>1</th>\n",
       "      <td>8</td>\n",
       "      <td>Kaylee</td>\n",
       "      <td>Summers</td>\n",
       "      <td>F</td>\n",
       "      <td>free</td>\n",
       "    </tr>\n",
       "    <tr>\n",
       "      <th>2</th>\n",
       "      <td>8</td>\n",
       "      <td>Kaylee</td>\n",
       "      <td>Summers</td>\n",
       "      <td>F</td>\n",
       "      <td>free</td>\n",
       "    </tr>\n",
       "  </tbody>\n",
       "</table>\n",
       "</div>"
      ],
      "text/plain": [
       "   userId firstName lastName gender level\n",
       "0       8    Kaylee  Summers      F  free\n",
       "1       8    Kaylee  Summers      F  free\n",
       "2       8    Kaylee  Summers      F  free"
      ]
     },
     "metadata": {},
     "output_type": "display_data"
    },
    {
     "name": "stdout",
     "output_type": "stream",
     "text": [
      "\n",
      "\n"
     ]
    }
   ],
   "source": [
    "# Select one log data file\n",
    "df = pd.read_json(log_files[0], lines = True)\n",
    "# Filter for next song\n",
    "df = df.loc[df['page'] == 'NextSong']\n",
    "df = df.reset_index(drop = True)\n",
    "\n",
    "# Convert ts columns in milliseconds to datetime\n",
    "df['start_time'] = pd.to_datetime(df['ts'], unit = 'ms')\n",
    "\n",
    "# convert timestamp column to datetime\n",
    "t = pd.to_datetime(df['ts'], unit = 'ms')\n",
    "t['hour'], t['day'], t['week_of_year'], t['month'], t['year'],\\\n",
    "t['weekday'] = t.dt.hour, t.dt.day, t.dt.isocalendar().week, t.dt.month,\\\n",
    "t.dt.year, t.dt.weekday\n",
    "\n",
    "# insert time data records\n",
    "time_data = (list(zip(t, t['hour'], t['day'], t['week_of_year'], t['month'], t['year'], t['weekday'])))\n",
    "column_labels = ('start_time', 'hour', 'day', 'week', 'month', 'year', 'weekday')\n",
    "time_df = pd.DataFrame(time_data, columns = column_labels)\n",
    "\n",
    "# User data\n",
    "user_df = df[['userId','firstName','lastName','gender','level']]\n",
    "\n",
    "print('\\n Log Data: \\n')\n",
    "df.info()\n",
    "display(df.head(3))\n",
    "\n",
    "print('\\n Time Data: \\n')\n",
    "time_df.info()\n",
    "display(time_df.head(3))\n",
    "\n",
    "print('\\n Users Data: \\n')\n",
    "user_df.info()\n",
    "display(user_df.head(3))\n",
    "print('\\n')"
   ]
  },
  {
   "cell_type": "code",
   "execution_count": 12,
   "id": "dc4dca7d",
   "metadata": {},
   "outputs": [],
   "source": [
    "# Insert time data\n",
    "for index, row in time_df.iterrows():\n",
    "    cur.execute(time_table_insert, list(row))\n",
    "    conn.commit()"
   ]
  },
  {
   "cell_type": "code",
   "execution_count": 13,
   "id": "3ba4442a",
   "metadata": {},
   "outputs": [],
   "source": [
    "# Insert users data\n",
    "for index, row in user_df.iterrows():\n",
    "    cur.execute(users_table_insert, list(row))\n",
    "    conn.commit()"
   ]
  },
  {
   "cell_type": "code",
   "execution_count": 14,
   "id": "1680168d",
   "metadata": {},
   "outputs": [],
   "source": [
    "# Insert data to songplay table\n",
    "for index, row in df.iterrows():\n",
    "    # get songid and artistid from song and artist tables\n",
    "    cur.execute(song_select, (row.song, row.artist, row.length))\n",
    "    results = cur.fetchone()\n",
    "    \n",
    "    # Assign song_id and artist_id to given values\n",
    "    if results:\n",
    "        song_id, artist_id = results\n",
    "    else:\n",
    "        song_id, artist_id = None, None\n",
    "\n",
    "    # insert data into songplay table\n",
    "    songplay_data = (row.start_time, row.userId, row.level, song_id, \n",
    "                     artist_id, row.sessionId, row.location, row.userAgent)\n",
    "    \n",
    "    cur.execute(songplay_table_insert, songplay_data)\n",
    "    conn.commit()"
   ]
  },
  {
   "cell_type": "markdown",
   "id": "3e62886e",
   "metadata": {},
   "source": [
    "### Drop Tables\n",
    "\n",
    "---"
   ]
  },
  {
   "cell_type": "code",
   "execution_count": 15,
   "id": "e1c4ade6",
   "metadata": {},
   "outputs": [
    {
     "name": "stdout",
     "output_type": "stream",
     "text": [
      "Tables have been dropped from sparkifydb\n"
     ]
    }
   ],
   "source": [
    "try: \n",
    "    drop_tables(cur, conn)\n",
    "    print('Tables have been dropped from sparkifydb')\n",
    "    \n",
    "except Exception as e:\n",
    "    print(e)"
   ]
  },
  {
   "cell_type": "code",
   "execution_count": 16,
   "id": "e64452f6",
   "metadata": {},
   "outputs": [],
   "source": [
    "cur.execute('''SELECT *\n",
    "               FROM pg_catalog.pg_tables\n",
    "               WHERE schemaname != 'pg_catalog' AND schemaname != 'information_schema';\n",
    "''')\n",
    "\n",
    "# Get list of tables\n",
    "tables = cur.fetchone()\n",
    "table_list = []\n",
    "\n",
    "while tables:\n",
    "    print(tables)\n",
    "    row_list.append(tables)\n",
    "    tables = cur.fetchone()"
   ]
  },
  {
   "cell_type": "code",
   "execution_count": 17,
   "id": "9ef7f96b",
   "metadata": {},
   "outputs": [
    {
     "name": "stdout",
     "output_type": "stream",
     "text": [
      "There are no tables in sparkify keyspace\n"
     ]
    }
   ],
   "source": [
    "# View tables\n",
    "if len(table_list) > 0:\n",
    "    for table in table_list:\n",
    "        print(table)\n",
    "        \n",
    "else:\n",
    "    print('There are no tables in sparkify keyspace')"
   ]
  },
  {
   "cell_type": "markdown",
   "id": "31c50ae8",
   "metadata": {},
   "source": [
    "### Close Connection to Database\n",
    "\n",
    "---"
   ]
  },
  {
   "cell_type": "code",
   "execution_count": 18,
   "id": "462b7983",
   "metadata": {},
   "outputs": [],
   "source": [
    "conn.close()"
   ]
  }
 ],
 "metadata": {
  "hide_input": false,
  "kernelspec": {
   "display_name": "Python 3",
   "language": "python",
   "name": "python3"
  },
  "language_info": {
   "codemirror_mode": {
    "name": "ipython",
    "version": 3
   },
   "file_extension": ".py",
   "mimetype": "text/x-python",
   "name": "python",
   "nbconvert_exporter": "python",
   "pygments_lexer": "ipython3",
   "version": "3.8.8"
  },
  "toc": {
   "base_numbering": 1,
   "nav_menu": {},
   "number_sections": true,
   "sideBar": true,
   "skip_h1_title": false,
   "title_cell": "Table of Contents",
   "title_sidebar": "Contents",
   "toc_cell": false,
   "toc_position": {},
   "toc_section_display": true,
   "toc_window_display": false
  }
 },
 "nbformat": 4,
 "nbformat_minor": 5
}
